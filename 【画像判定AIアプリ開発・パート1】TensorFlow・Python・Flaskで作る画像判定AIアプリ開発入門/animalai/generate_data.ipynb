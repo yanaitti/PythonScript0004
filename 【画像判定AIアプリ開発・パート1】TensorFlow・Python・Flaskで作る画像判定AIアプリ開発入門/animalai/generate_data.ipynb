{
 "cells": [
  {
   "cell_type": "code",
   "execution_count": 10,
   "metadata": {},
   "outputs": [
    {
     "name": "stdout",
     "output_type": "stream",
     "text": [
      "monkey 200\n",
      "boar 400\n",
      "crow 600\n"
     ]
    }
   ],
   "source": [
    "from PIL import Image\n",
    "import os, glob\n",
    "import numpy as np\n",
    "from sklearn import model_selection\n",
    "\n",
    "classes = ['monkey', 'boar', 'crow']\n",
    "num_classes = len(classes)\n",
    "image_size = 50\n",
    "\n",
    "#画像の読み込み\n",
    "\n",
    "X = []\n",
    "Y = []\n",
    "\n",
    "for index, classlabel in enumerate(classes):\n",
    "    photos_dir = './' + classlabel\n",
    "    files = glob.glob(photos_dir + '/*.jpg')\n",
    "    for i, file in enumerate(files):\n",
    "        if i >= 200: break\n",
    "        image = Image.open(file)\n",
    "        image = image.convert('RGB')\n",
    "        image = image.resize((image_size, image_size))\n",
    "        data = np.asarray(image)\n",
    "        X.append(data)\n",
    "        Y.append(index)\n",
    "    print(classlabel, len(X))\n",
    "\n",
    "X = np.array(X)\n",
    "Y = np.array(Y)\n"
   ]
  },
  {
   "cell_type": "code",
   "execution_count": 12,
   "metadata": {},
   "outputs": [
    {
     "data": {
      "text/plain": [
       "array([[[ 29,  36,  20],\n",
       "        [ 23,  29,  15],\n",
       "        [ 22,  28,  16],\n",
       "        ...,\n",
       "        [ 25,  31,  17],\n",
       "        [ 26,  33,  17],\n",
       "        [ 28,  35,  19]],\n",
       "\n",
       "       [[ 25,  32,  16],\n",
       "        [ 21,  28,  12],\n",
       "        [ 23,  29,  15],\n",
       "        ...,\n",
       "        [ 28,  35,  19],\n",
       "        [ 28,  35,  17],\n",
       "        [ 28,  35,  17]],\n",
       "\n",
       "       [[ 24,  31,  13],\n",
       "        [ 25,  32,  16],\n",
       "        [ 25,  32,  16],\n",
       "        ...,\n",
       "        [ 33,  40,  24],\n",
       "        [ 32,  39,  21],\n",
       "        [ 32,  39,  21]],\n",
       "\n",
       "       ...,\n",
       "\n",
       "       [[ 82,  66,  43],\n",
       "        [ 74,  57,  31],\n",
       "        [ 76,  55,  34],\n",
       "        ...,\n",
       "        [ 37,  44,  26],\n",
       "        [ 40,  47,  29],\n",
       "        [ 41,  48,  30]],\n",
       "\n",
       "       [[ 59,  41,  27],\n",
       "        [ 65,  42,  24],\n",
       "        [ 69,  49,  24],\n",
       "        ...,\n",
       "        [ 40,  47,  31],\n",
       "        [ 39,  46,  28],\n",
       "        [ 40,  47,  29]],\n",
       "\n",
       "       [[156, 148, 127],\n",
       "        [ 29,  26,   9],\n",
       "        [ 27,  25,  28],\n",
       "        ...,\n",
       "        [ 38,  45,  29],\n",
       "        [ 39,  46,  28],\n",
       "        [ 39,  46,  28]]], dtype=uint8)"
      ]
     },
     "execution_count": 12,
     "metadata": {},
     "output_type": "execute_result"
    }
   ],
   "source": [
    "X[0]"
   ]
  },
  {
   "cell_type": "code",
   "execution_count": 13,
   "metadata": {},
   "outputs": [
    {
     "data": {
      "text/plain": [
       "600"
      ]
     },
     "execution_count": 13,
     "metadata": {},
     "output_type": "execute_result"
    }
   ],
   "source": [
    "len(X)"
   ]
  },
  {
   "cell_type": "code",
   "execution_count": 14,
   "metadata": {},
   "outputs": [
    {
     "data": {
      "text/plain": [
       "0"
      ]
     },
     "execution_count": 14,
     "metadata": {},
     "output_type": "execute_result"
    }
   ],
   "source": [
    "Y[100]"
   ]
  },
  {
   "cell_type": "code",
   "execution_count": 15,
   "metadata": {},
   "outputs": [
    {
     "data": {
      "text/plain": [
       "1"
      ]
     },
     "execution_count": 15,
     "metadata": {},
     "output_type": "execute_result"
    }
   ],
   "source": [
    "Y[200]"
   ]
  },
  {
   "cell_type": "code",
   "execution_count": 17,
   "metadata": {},
   "outputs": [
    {
     "data": {
      "text/plain": [
       "2"
      ]
     },
     "execution_count": 17,
     "metadata": {},
     "output_type": "execute_result"
    }
   ],
   "source": [
    "Y[450]"
   ]
  },
  {
   "cell_type": "code",
   "execution_count": null,
   "metadata": {},
   "outputs": [],
   "source": []
  }
 ],
 "metadata": {
  "kernelspec": {
   "display_name": "Python 3",
   "language": "python",
   "name": "python3"
  },
  "language_info": {
   "codemirror_mode": {
    "name": "ipython",
    "version": 3
   },
   "file_extension": ".py",
   "mimetype": "text/x-python",
   "name": "python",
   "nbconvert_exporter": "python",
   "pygments_lexer": "ipython3",
   "version": "3.7.4"
  }
 },
 "nbformat": 4,
 "nbformat_minor": 2
}
